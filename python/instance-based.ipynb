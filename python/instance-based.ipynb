{
 "cells": [
  {
   "cell_type": "code",
   "execution_count": 1,
   "metadata": {
    "collapsed": true
   },
   "outputs": [],
   "source": [
    "%matplotlib inline\n",
    "\n",
    "import math\n",
    "import matplotlib.pyplot as p\n",
    "import pylab"
   ]
  },
  {
   "cell_type": "code",
   "execution_count": 2,
   "metadata": {
    "collapsed": false
   },
   "outputs": [],
   "source": [
    "class dataset():\n",
    "    def __init__(self, inputs=None, outputs=None):\n",
    "        if len(inputs) != len(outputs):\n",
    "            print \"Error, number of inputs must be equal to number of outputs\"\n",
    "        else:\n",
    "            self.inputs = inputs\n",
    "            self.outputs = outputs\n",
    "    def add(self, inputs, outputs):\n",
    "        self.inputs.append(inputs)\n",
    "        self.outputs.append(outputs)\n",
    "    def size(self):\n",
    "        return len(self.inputs)"
   ]
  },
  {
   "cell_type": "code",
   "execution_count": 3,
   "metadata": {
    "collapsed": true
   },
   "outputs": [],
   "source": [
    "def most_common(lst):\n",
    "    return max(set(lst), key=lst.count)"
   ]
  },
  {
   "cell_type": "code",
   "execution_count": 4,
   "metadata": {
    "collapsed": true
   },
   "outputs": [],
   "source": [
    "def euclidian_distance(a,b):\n",
    "    if range(len(a)) != range(len(b)):\n",
    "        print \"Error, a and b must have same dimensions\"\n",
    "    else:\n",
    "        distance = 0\n",
    "        for i in range(len(a)):\n",
    "            distance = distance + pow(a[i]-b[i],2)\n",
    "    return math.sqrt(distance)"
   ]
  },
  {
   "cell_type": "code",
   "execution_count": 5,
   "metadata": {
    "collapsed": false
   },
   "outputs": [],
   "source": [
    "class knn():\n",
    "    \n",
    "    #examples is a dataset object\n",
    "    def __init__(self, examples, k = 1):\n",
    "        self.k =k\n",
    "        self.examples = examples\n",
    "    #find k nearest examples       \n",
    "    def k_nearest(self, xq):\n",
    "        k_nearest = {'in':[],'out':[],'dist':[]}\n",
    "        for idx, val in enumerate(self.examples.inputs):\n",
    "            dist = euclidian_distance(val, xq)\n",
    "            if len(k_nearest['dist'])< self.k:\n",
    "                k_nearest['in'].append(val)\n",
    "                k_nearest['out'].append(self.examples.outputs[idx])\n",
    "                k_nearest['dist'].append(dist)\n",
    "            elif dist < max(k_nearest['dist']):\n",
    "                index = k_nearest['dist'].index(max(k_nearest['dist']))\n",
    "                del k_nearest['in'][index]\n",
    "                del k_nearest['out'][index]\n",
    "                del k_nearest['dist'][index]\n",
    "                \n",
    "                k_nearest['in'].append(val)\n",
    "                k_nearest['out'].append(self.examples.outputs[idx])\n",
    "                k_nearest['dist'].append(dist)\n",
    "        \n",
    "        return k_nearest\n",
    "    \n",
    "    def predict(self, xq):\n",
    "        k_nearest = self.k_nearest(xq)\n",
    "#         print(k_nearest['out'])\n",
    "        return most_common(k_nearest['out'])"
   ]
  },
  {
   "cell_type": "code",
   "execution_count": 6,
   "metadata": {
    "collapsed": false
   },
   "outputs": [],
   "source": [
    "# examples\n",
    "ds = dataset(inputs = [(1,3),(1,2),(2,4),(2,1),(3,2)], outputs = [2,4,3,1,1])\n",
    "# instance to be classified\n",
    "xq = (2,4)"
   ]
  },
  {
   "cell_type": "code",
   "execution_count": 7,
   "metadata": {
    "collapsed": false
   },
   "outputs": [
    {
     "data": {
      "text/plain": [
       "1"
      ]
     },
     "execution_count": 7,
     "metadata": {},
     "output_type": "execute_result"
    }
   ],
   "source": [
    "model = knn(ds, k = 5)\n",
    "model.predict(xq)"
   ]
  },
  {
   "cell_type": "code",
   "execution_count": null,
   "metadata": {
    "collapsed": false
   },
   "outputs": [],
   "source": []
  }
 ],
 "metadata": {
  "kernelspec": {
   "display_name": "Python 2",
   "language": "python",
   "name": "python2"
  },
  "language_info": {
   "codemirror_mode": {
    "name": "ipython",
    "version": 2
   },
   "file_extension": ".py",
   "mimetype": "text/x-python",
   "name": "python",
   "nbconvert_exporter": "python",
   "pygments_lexer": "ipython2",
   "version": "2.7.11"
  }
 },
 "nbformat": 4,
 "nbformat_minor": 0
}
